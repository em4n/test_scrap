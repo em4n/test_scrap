{
 "cells": [
  {
   "cell_type": "code",
   "execution_count": 2,
   "metadata": {},
   "outputs": [],
   "source": [
    "from bs4 import BeautifulSoup\n",
    "import requests\n",
    "import re\n",
    "import json"
   ]
  },
  {
   "cell_type": "code",
   "execution_count": 3,
   "metadata": {},
   "outputs": [],
   "source": [
    "url = 'https://beritagar.id/indeks'\n",
    "r = requests.get(url)\n",
    "html_content = r.content\n",
    "soup = BeautifulSoup(html_content, 'lxml')"
   ]
  },
  {
   "cell_type": "code",
   "execution_count": 4,
   "metadata": {
    "scrolled": true
   },
   "outputs": [],
   "source": [
    "#Mendapatkan link per list berita https://beritagar.id/indeks\n",
    "ob = soup.find_all('article', attrs={'class' : 'stream stream-channel stream-channel--list'})\n",
    "links = []\n",
    "for i in ob:\n",
    "    for h1 in  i.h1.findAll('a', attrs={'href': re.compile(\"^https://\")}):\n",
    "        link =  h1.get('href')\n",
    "        links.append(link)"
   ]
  },
  {
   "cell_type": "code",
   "execution_count": 7,
   "metadata": {},
   "outputs": [],
   "source": [
    "file = open(\"data_file.json\", \"a\")\n",
    "for i in range(0, len(links)):\n",
    "    x = links[i]\n",
    "    url = x\n",
    "    r = requests.get(url)\n",
    "    html_content = r.content\n",
    "    soup = BeautifulSoup(html_content, 'lxml')\n",
    "\n",
    "    #Mendapatkan Title\n",
    "    title = soup.find('h1', attrs={'class' : 'title'}).getText()\n",
    "    \n",
    "    #Mendapatkan Source Image\n",
    "    image = soup.figure.find('img')\n",
    "    get_i =(image.get('src'))\n",
    "\n",
    "    #Mendapatkan Content\n",
    "    content = soup.findAll('div', attrs={'class' : 'content'})\n",
    "    paragraphs = []\n",
    "    for p in content:\n",
    "        for paragraph in p.find_all('p'):\n",
    "            paragraphs.append(paragraph.getText())\n",
    "        \n",
    "    article = { \"title\": title, \"images\": get_i, \"content\": paragraphs }\n",
    "    \n",
    "    #Memasukkan hasil scrap ke file json\n",
    "    file.write(json.dumps(article) + \"\\n\")\n",
    "file.close()"
   ]
  },
  {
   "cell_type": "code",
   "execution_count": null,
   "metadata": {},
   "outputs": [],
   "source": []
  }
 ],
 "metadata": {
  "kernelspec": {
   "display_name": "Python 3",
   "language": "python",
   "name": "python3"
  },
  "language_info": {
   "codemirror_mode": {
    "name": "ipython",
    "version": 2
   },
   "file_extension": ".py",
   "mimetype": "text/x-python",
   "name": "python",
   "nbconvert_exporter": "python",
   "pygments_lexer": "ipython2",
   "version": "2.7.15rc1"
  }
 },
 "nbformat": 4,
 "nbformat_minor": 2
}
